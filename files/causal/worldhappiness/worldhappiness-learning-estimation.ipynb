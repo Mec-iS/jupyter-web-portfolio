{
 "cells": [
  {
   "cell_type": "markdown",
   "metadata": {},
   "source": [
    "# A causal look into the factors of world happiness [4-Estimations]\n",
    "\n",
    "## intro\n",
    "In this one we will try causal graph learning on our dataset. There are different algorithms to discover causal graphs from data. We are going to use `causal-learn` library.\n",
    "\n",
    "Let's start with the usual dataset loading steps. Here the mapping of the variables:\n",
    "```\n",
    "Y: Ladder score\n",
    "D: \"treatment\" status indicator, we will try to do some interventions\n",
    "   on some subset of the records (for example, what happens if income raises...)\n",
    "   this binary label will be set to 1 for the records that received the intervention.\n",
    "X: a matrix of all the covariates used in the dataset (Y  S  J  X  W)\n",
    "```\n",
    "\n",
    "Discalimer: figures below may differ if recomputed as those are results of probabilistic models\n",
    "\n",
    "Following from the [previous notebook](https://www.kaggle.com/code/lorenzogotuned/world-happiness-3-causal-learning).\n",
    "\n",
    "## load the dataset"
   ]
  },
  {
   "cell_type": "code",
   "execution_count": 3,
   "metadata": {},
   "outputs": [],
   "source": [
    "import pandas as pd\n",
    "from causalinference import CausalModel\n",
    "from tabulate import tabulate\n",
    "from functools import partial\n",
    "def flatten(xss):\n",
    "    return [x for xs in xss for x in xs]"
   ]
  },
  {
   "cell_type": "code",
   "execution_count": 4,
   "metadata": {},
   "outputs": [
    {
     "data": {
      "text/html": [
       "<div>\n",
       "<style scoped>\n",
       "    .dataframe tbody tr th:only-of-type {\n",
       "        vertical-align: middle;\n",
       "    }\n",
       "\n",
       "    .dataframe tbody tr th {\n",
       "        vertical-align: top;\n",
       "    }\n",
       "\n",
       "    .dataframe thead th {\n",
       "        text-align: right;\n",
       "    }\n",
       "</style>\n",
       "<table border=\"1\" class=\"dataframe\">\n",
       "  <thead>\n",
       "    <tr style=\"text-align: right;\">\n",
       "      <th></th>\n",
       "      <th>Country name</th>\n",
       "      <th>Regional indicator</th>\n",
       "      <th>Ladder score</th>\n",
       "      <th>Standard error of ladder score</th>\n",
       "      <th>upperwhisker</th>\n",
       "      <th>lowerwhisker</th>\n",
       "      <th>Logged GDP per capita</th>\n",
       "      <th>Social support</th>\n",
       "      <th>Healthy life expectancy</th>\n",
       "      <th>Freedom to make life choices</th>\n",
       "      <th>Generosity</th>\n",
       "      <th>Perceptions of corruption</th>\n",
       "      <th>Ladder score in Dystopia</th>\n",
       "      <th>Dystopia + residual</th>\n",
       "    </tr>\n",
       "  </thead>\n",
       "  <tbody>\n",
       "    <tr>\n",
       "      <th>0</th>\n",
       "      <td>Finland</td>\n",
       "      <td>Western Europe</td>\n",
       "      <td>7.842</td>\n",
       "      <td>0.032</td>\n",
       "      <td>7.904</td>\n",
       "      <td>7.780</td>\n",
       "      <td>10.775</td>\n",
       "      <td>0.954</td>\n",
       "      <td>72.0</td>\n",
       "      <td>0.949</td>\n",
       "      <td>-0.098</td>\n",
       "      <td>0.186</td>\n",
       "      <td>2.43</td>\n",
       "      <td>3.253</td>\n",
       "    </tr>\n",
       "    <tr>\n",
       "      <th>1</th>\n",
       "      <td>Denmark</td>\n",
       "      <td>Western Europe</td>\n",
       "      <td>7.620</td>\n",
       "      <td>0.035</td>\n",
       "      <td>7.687</td>\n",
       "      <td>7.552</td>\n",
       "      <td>10.933</td>\n",
       "      <td>0.954</td>\n",
       "      <td>72.7</td>\n",
       "      <td>0.946</td>\n",
       "      <td>0.030</td>\n",
       "      <td>0.179</td>\n",
       "      <td>2.43</td>\n",
       "      <td>2.868</td>\n",
       "    </tr>\n",
       "    <tr>\n",
       "      <th>2</th>\n",
       "      <td>Switzerland</td>\n",
       "      <td>Western Europe</td>\n",
       "      <td>7.571</td>\n",
       "      <td>0.036</td>\n",
       "      <td>7.643</td>\n",
       "      <td>7.500</td>\n",
       "      <td>11.117</td>\n",
       "      <td>0.942</td>\n",
       "      <td>74.4</td>\n",
       "      <td>0.919</td>\n",
       "      <td>0.025</td>\n",
       "      <td>0.292</td>\n",
       "      <td>2.43</td>\n",
       "      <td>2.839</td>\n",
       "    </tr>\n",
       "    <tr>\n",
       "      <th>3</th>\n",
       "      <td>Iceland</td>\n",
       "      <td>Western Europe</td>\n",
       "      <td>7.554</td>\n",
       "      <td>0.059</td>\n",
       "      <td>7.670</td>\n",
       "      <td>7.438</td>\n",
       "      <td>10.878</td>\n",
       "      <td>0.983</td>\n",
       "      <td>73.0</td>\n",
       "      <td>0.955</td>\n",
       "      <td>0.160</td>\n",
       "      <td>0.673</td>\n",
       "      <td>2.43</td>\n",
       "      <td>2.967</td>\n",
       "    </tr>\n",
       "    <tr>\n",
       "      <th>4</th>\n",
       "      <td>Netherlands</td>\n",
       "      <td>Western Europe</td>\n",
       "      <td>7.464</td>\n",
       "      <td>0.027</td>\n",
       "      <td>7.518</td>\n",
       "      <td>7.410</td>\n",
       "      <td>10.932</td>\n",
       "      <td>0.942</td>\n",
       "      <td>72.4</td>\n",
       "      <td>0.913</td>\n",
       "      <td>0.175</td>\n",
       "      <td>0.338</td>\n",
       "      <td>2.43</td>\n",
       "      <td>2.798</td>\n",
       "    </tr>\n",
       "  </tbody>\n",
       "</table>\n",
       "</div>"
      ],
      "text/plain": [
       "  Country name Regional indicator  Ladder score  \\\n",
       "0      Finland     Western Europe         7.842   \n",
       "1      Denmark     Western Europe         7.620   \n",
       "2  Switzerland     Western Europe         7.571   \n",
       "3      Iceland     Western Europe         7.554   \n",
       "4  Netherlands     Western Europe         7.464   \n",
       "\n",
       "   Standard error of ladder score  upperwhisker  lowerwhisker  \\\n",
       "0                           0.032         7.904         7.780   \n",
       "1                           0.035         7.687         7.552   \n",
       "2                           0.036         7.643         7.500   \n",
       "3                           0.059         7.670         7.438   \n",
       "4                           0.027         7.518         7.410   \n",
       "\n",
       "   Logged GDP per capita  Social support  Healthy life expectancy  \\\n",
       "0                 10.775           0.954                     72.0   \n",
       "1                 10.933           0.954                     72.7   \n",
       "2                 11.117           0.942                     74.4   \n",
       "3                 10.878           0.983                     73.0   \n",
       "4                 10.932           0.942                     72.4   \n",
       "\n",
       "   Freedom to make life choices  Generosity  Perceptions of corruption  \\\n",
       "0                         0.949      -0.098                      0.186   \n",
       "1                         0.946       0.030                      0.179   \n",
       "2                         0.919       0.025                      0.292   \n",
       "3                         0.955       0.160                      0.673   \n",
       "4                         0.913       0.175                      0.338   \n",
       "\n",
       "   Ladder score in Dystopia  Dystopia + residual  \n",
       "0                      2.43                3.253  \n",
       "1                      2.43                2.868  \n",
       "2                      2.43                2.839  \n",
       "3                      2.43                2.967  \n",
       "4                      2.43                2.798  "
      ]
     },
     "execution_count": 4,
     "metadata": {},
     "output_type": "execute_result"
    }
   ],
   "source": [
    "df = pd.read_csv('world-happiness-report-2021.csv')\n",
    "df.drop(list(df.filter(regex='Explained')), axis=1, inplace=True)\n",
    "df.head()"
   ]
  },
  {
   "cell_type": "code",
   "execution_count": 5,
   "metadata": {},
   "outputs": [
    {
     "data": {
      "text/html": [
       "<div>\n",
       "<style scoped>\n",
       "    .dataframe tbody tr th:only-of-type {\n",
       "        vertical-align: middle;\n",
       "    }\n",
       "\n",
       "    .dataframe tbody tr th {\n",
       "        vertical-align: top;\n",
       "    }\n",
       "\n",
       "    .dataframe thead th {\n",
       "        text-align: right;\n",
       "    }\n",
       "</style>\n",
       "<table border=\"1\" class=\"dataframe\">\n",
       "  <thead>\n",
       "    <tr style=\"text-align: right;\">\n",
       "      <th></th>\n",
       "      <th>Y</th>\n",
       "      <th>S</th>\n",
       "      <th>J</th>\n",
       "      <th>X</th>\n",
       "      <th>W</th>\n",
       "    </tr>\n",
       "  </thead>\n",
       "  <tbody>\n",
       "    <tr>\n",
       "      <th>0</th>\n",
       "      <td>7.842</td>\n",
       "      <td>10.775</td>\n",
       "      <td>0.954</td>\n",
       "      <td>72.0</td>\n",
       "      <td>0.949</td>\n",
       "    </tr>\n",
       "    <tr>\n",
       "      <th>1</th>\n",
       "      <td>7.620</td>\n",
       "      <td>10.933</td>\n",
       "      <td>0.954</td>\n",
       "      <td>72.7</td>\n",
       "      <td>0.946</td>\n",
       "    </tr>\n",
       "    <tr>\n",
       "      <th>2</th>\n",
       "      <td>7.571</td>\n",
       "      <td>11.117</td>\n",
       "      <td>0.942</td>\n",
       "      <td>74.4</td>\n",
       "      <td>0.919</td>\n",
       "    </tr>\n",
       "    <tr>\n",
       "      <th>3</th>\n",
       "      <td>7.554</td>\n",
       "      <td>10.878</td>\n",
       "      <td>0.983</td>\n",
       "      <td>73.0</td>\n",
       "      <td>0.955</td>\n",
       "    </tr>\n",
       "    <tr>\n",
       "      <th>4</th>\n",
       "      <td>7.464</td>\n",
       "      <td>10.932</td>\n",
       "      <td>0.942</td>\n",
       "      <td>72.4</td>\n",
       "      <td>0.913</td>\n",
       "    </tr>\n",
       "  </tbody>\n",
       "</table>\n",
       "</div>"
      ],
      "text/plain": [
       "       Y       S      J     X      W\n",
       "0  7.842  10.775  0.954  72.0  0.949\n",
       "1  7.620  10.933  0.954  72.7  0.946\n",
       "2  7.571  11.117  0.942  74.4  0.919\n",
       "3  7.554  10.878  0.983  73.0  0.955\n",
       "4  7.464  10.932  0.942  72.4  0.913"
      ]
     },
     "execution_count": 5,
     "metadata": {},
     "output_type": "execute_result"
    }
   ],
   "source": [
    "df = df[[\"Ladder score\",\n",
    "         \"Logged GDP per capita\",\n",
    "         \"Social support\",\n",
    "         \"Healthy life expectancy\",\n",
    "         \"Freedom to make life choices\"]\n",
    "].copy()\n",
    "df.rename(columns={\n",
    "    \"Ladder score\": \"Y\",\n",
    "    \"Logged GDP per capita\": \"S\",\n",
    "    \"Social support\": \"J\",\n",
    "    \"Healthy life expectancy\": \"X\",\n",
    "    \"Freedom to make life choices\": \"W\" \n",
    "}, inplace=True)\n",
    "df.head(5)"
   ]
  },
  {
   "cell_type": "code",
   "execution_count": 6,
   "metadata": {},
   "outputs": [
    {
     "data": {
      "text/html": [
       "<div>\n",
       "<style scoped>\n",
       "    .dataframe tbody tr th:only-of-type {\n",
       "        vertical-align: middle;\n",
       "    }\n",
       "\n",
       "    .dataframe tbody tr th {\n",
       "        vertical-align: top;\n",
       "    }\n",
       "\n",
       "    .dataframe thead th {\n",
       "        text-align: right;\n",
       "    }\n",
       "</style>\n",
       "<table border=\"1\" class=\"dataframe\">\n",
       "  <thead>\n",
       "    <tr style=\"text-align: right;\">\n",
       "      <th></th>\n",
       "      <th>Y</th>\n",
       "      <th>S</th>\n",
       "      <th>J</th>\n",
       "      <th>X</th>\n",
       "      <th>W</th>\n",
       "    </tr>\n",
       "  </thead>\n",
       "  <tbody>\n",
       "    <tr>\n",
       "      <th>count</th>\n",
       "      <td>149.000000</td>\n",
       "      <td>149.000000</td>\n",
       "      <td>149.000000</td>\n",
       "      <td>149.000000</td>\n",
       "      <td>149.000000</td>\n",
       "    </tr>\n",
       "    <tr>\n",
       "      <th>mean</th>\n",
       "      <td>5.532839</td>\n",
       "      <td>9.432208</td>\n",
       "      <td>0.814745</td>\n",
       "      <td>64.992799</td>\n",
       "      <td>0.791597</td>\n",
       "    </tr>\n",
       "    <tr>\n",
       "      <th>std</th>\n",
       "      <td>1.073924</td>\n",
       "      <td>1.158601</td>\n",
       "      <td>0.114889</td>\n",
       "      <td>6.762043</td>\n",
       "      <td>0.113332</td>\n",
       "    </tr>\n",
       "    <tr>\n",
       "      <th>min</th>\n",
       "      <td>2.523000</td>\n",
       "      <td>6.635000</td>\n",
       "      <td>0.463000</td>\n",
       "      <td>48.478000</td>\n",
       "      <td>0.382000</td>\n",
       "    </tr>\n",
       "    <tr>\n",
       "      <th>25%</th>\n",
       "      <td>4.852000</td>\n",
       "      <td>8.541000</td>\n",
       "      <td>0.750000</td>\n",
       "      <td>59.802000</td>\n",
       "      <td>0.718000</td>\n",
       "    </tr>\n",
       "    <tr>\n",
       "      <th>50%</th>\n",
       "      <td>5.534000</td>\n",
       "      <td>9.569000</td>\n",
       "      <td>0.832000</td>\n",
       "      <td>66.603000</td>\n",
       "      <td>0.804000</td>\n",
       "    </tr>\n",
       "    <tr>\n",
       "      <th>75%</th>\n",
       "      <td>6.255000</td>\n",
       "      <td>10.421000</td>\n",
       "      <td>0.905000</td>\n",
       "      <td>69.600000</td>\n",
       "      <td>0.877000</td>\n",
       "    </tr>\n",
       "    <tr>\n",
       "      <th>max</th>\n",
       "      <td>7.842000</td>\n",
       "      <td>11.647000</td>\n",
       "      <td>0.983000</td>\n",
       "      <td>76.953000</td>\n",
       "      <td>0.970000</td>\n",
       "    </tr>\n",
       "  </tbody>\n",
       "</table>\n",
       "</div>"
      ],
      "text/plain": [
       "                Y           S           J           X           W\n",
       "count  149.000000  149.000000  149.000000  149.000000  149.000000\n",
       "mean     5.532839    9.432208    0.814745   64.992799    0.791597\n",
       "std      1.073924    1.158601    0.114889    6.762043    0.113332\n",
       "min      2.523000    6.635000    0.463000   48.478000    0.382000\n",
       "25%      4.852000    8.541000    0.750000   59.802000    0.718000\n",
       "50%      5.534000    9.569000    0.832000   66.603000    0.804000\n",
       "75%      6.255000   10.421000    0.905000   69.600000    0.877000\n",
       "max      7.842000   11.647000    0.983000   76.953000    0.970000"
      ]
     },
     "execution_count": 6,
     "metadata": {},
     "output_type": "execute_result"
    }
   ],
   "source": [
    "df.describe()"
   ]
  },
  {
   "cell_type": "code",
   "execution_count": 5,
   "metadata": {},
   "outputs": [
    {
     "name": "stdout",
     "output_type": "stream",
     "text": [
      "Index(['Y', 'S', 'J', 'X', 'W'], dtype='object')\n"
     ]
    }
   ],
   "source": [
    "print(df.columns)\n",
    "\n",
    "from IPython.display import Image, display\n",
    "\n",
    "def view_pydot(pdot):\n",
    "    plt = Image(pdot.create_png())\n",
    "    display(plt)"
   ]
  },
  {
   "cell_type": "markdown",
   "metadata": {},
   "source": [
    "In the previous post, using Peter-Clark (PC), we identified one causal graph in particular to focus our attention:"
   ]
  },
  {
   "cell_type": "code",
   "execution_count": 10,
   "metadata": {},
   "outputs": [
    {
     "data": {
      "application/vnd.jupyter.widget-view+json": {
       "model_id": "b5c0d82a07ae44c1849083bad8d610a8",
       "version_major": 2,
       "version_minor": 0
      },
      "text/plain": [
       "  0%|          | 0/5 [00:00<?, ?it/s]"
      ]
     },
     "metadata": {},
     "output_type": "display_data"
    },
    {
     "name": "stdout",
     "output_type": "stream",
     "text": [
      "Causal graph identified by causal learning\n"
     ]
    },
    {
     "data": {
      "image/png": "[encoded data removed]",
      "text/plain": [
       "<Figure size 432x288 with 1 Axes>"
      ]
     },
     "metadata": {
      "needs_background": "light"
     },
     "output_type": "display_data"
    }
   ],
   "source": [
    "from causallearn.search.ConstraintBased.PC import pc\n",
    "cg = pc(df.to_numpy())\n",
    "\n",
    "print(\"Causal graph identified by causal learning\")\n",
    "# visualization using pydot\n",
    "cg.draw_pydot_graph(labels=df.columns)"
   ]
  },
  {
   "cell_type": "markdown",
   "metadata": {},
   "source": [
    "The graph discovered includes only 4 variables, there seems to be no causal relation that involves `S`.\n",
    "\n",
    "## Estimation\n",
    "\n",
    "Let's now perform multiple estimations for the ETA, ATC and ATT for this graph. This will allow a statistical analysis over the expected value of a variable after the intervention, that is expressed with:\n",
    "\n",
    "$E(Y(1)-Y(0) )$\n",
    "\n",
    "`Y(1)` is the value of the variable `Y` with intervention, while `Y(0)` otherwise. The indices that synthetise this expected values for all the data points in the dataset are:\n",
    "* ATA: Average Treatment Effect\n",
    "* ATC: Average Treatment Effect on Controls\n",
    "* ATT: Average Treatment Effect on Treated\n",
    "\n",
    "This is what we have done in notebook 2 for different causal graph hypothesis, we are going to proceed to a more detailed analysis on the graph identified by the causal learning (notebook 3).\n",
    "\n",
    "Let's start by splitting the dataset in records that will receive the intervention and records that won't:\n",
    "\n"
   ]
  },
  {
   "cell_type": "code",
   "execution_count": 72,
   "metadata": {},
   "outputs": [
    {
     "name": "stdout",
     "output_type": "stream",
     "text": [
      "[1 1 1 1 1 1 0 0 1 1 0 1 1 1 0 1 0 1 1 1 0 0 0 1 1 0 1 1 1 0 0 1 0 0 1 1 1\n",
      " 0 1 1 0 1 0 0 1 1 1 0 1 1 0 1 0 1 1 1 1 0 1 0 0 1 0 0 1 0 1 0 1 0 1 1 0 0\n",
      " 1 1 1 0 1 0 0 1 1 1 1 0 0 1 1 1 1 1 0 1 0 1 0 1 0 0 0 1 0 0 1 1 1 0 1 1 1\n",
      " 1 1 1 0 1 1 1 1 1 1 1 1 1 1 1 1 0 1 0 1 1 1 0 0 1 1 0 0 0 0 0 1 1 1 1 1 0\n",
      " 1]\n"
     ]
    }
   ],
   "source": [
    "# randomise treatment in the dataset\n",
    "import numpy as np\n",
    "df[\"D\"] = np.random.choice(a=[0,1], size=df[\"Y\"].count(), p=[0.4, 0.6])\n",
    "print(df[\"D\"].to_numpy())"
   ]
  },
  {
   "cell_type": "markdown",
   "metadata": {},
   "source": [
    "We added a column `D` to define who will receive the treatment.\n",
    "\n",
    "Let's remember the **foundamental assumptions** that make this kind of analysis formally complete.\n",
    "\n",
    "These prerequisites must hold:\n",
    "\n",
    "1. *randomized experiment* (\"strong\" prerequisite)\n",
    "\n",
    "assignment of treatment must be random:\n",
    "\n",
    "$(Y(0), Y(1)) ⟂ D$\n",
    "\n",
    "\n",
    "2. *unconfounded assumption* (\"weak\" prerequisite)\n",
    "\n",
    "exclude confounding among covariates (`X`), there is no unobserved confounder:\n",
    "\n",
    "$(Y(0), Y(1)) ⟂ D|X$\n",
    "\n",
    "Effects of treatment are orthogonal to treatment conditional covariates. This condition is checked automatically by causal inference libraries\n",
    "by comparing conditional probabilities. \n",
    "\n",
    "## Interventions\n",
    "\n",
    "After the application of causal learning we can direct our attention to the covariates that we assume are going to be the most meaningfull to our analysis. According to the causal graph above, we are going to establish which cause has the most influence on the \"happiness\", the two candidates have been identified in `X` life expectancy and `J` social support.\n",
    "\n",
    "We are going to use a \"matching\" estimator. To overcome the excess of extrapolation in other estimation method, \"matching\" tries to compute on matching records with similar covariate values. It implies applying locally the linear approximation to values that are already similar.\n",
    "\n",
    "### 0. Avoid covariate imbalance\n",
    "\n",
    "To understand the state of covariate imbalance we need to compute the *propensity score*, *the probability of receiving treatment*. Thanks to some literature that starts with Rosenbaum/Rubin (1983) we can be confident that can compute the propensity score by matching on the probability distribution of the covariates aggregated across subjects. This is a consequence derived from the Unconfoundedness Assumption seen above (`X` here stays for the matrix of all the covariates):\n",
    "\n",
    "$(Y(0), Y(1)) ⟂ D|X$\n",
    "\n",
    "implies $(Y(0), Y(1)) ⟂ D|p(X)$  (use probability density instead of values)\n",
    "\n",
    "that is $p(X) = P(D=1|X)$ (this allows for the Imbens/Rubin (2015) algorithm to compute the propensity score)\n",
    "\n",
    "Let's compute the propensity score on the original (without interventions) dataset so to correct possible imbalances:"
   ]
  },
  {
   "cell_type": "code",
   "execution_count": 73,
   "metadata": {},
   "outputs": [],
   "source": [
    "df_start = df.copy()\n",
    "\n",
    "def compute_causal_model(covariates=df_start[[\"X\", \"J\"]].to_numpy()):\n",
    "    \"\"\" Compute the causal model by given covariates \"\"\"\n",
    "    return CausalModel(\n",
    "        Y=df_start[\"Y\"].to_numpy(),        # the effect\n",
    "        D=df_start[\"D\"].to_numpy(),        # the treatment assignment\n",
    "        X=covariates                       # the covariates\n",
    "    )\n",
    "\n",
    "\n",
    "\n",
    "causal = compute_causal_model()"
   ]
  },
  {
   "cell_type": "code",
   "execution_count": 76,
   "metadata": {},
   "outputs": [
    {
     "name": "stdout",
     "output_type": "stream",
     "text": [
      "\n",
      "Estimated Parameters of Propensity Score\n",
      "\n",
      "                    Coef.       S.e.          z      P>|z|      [95% Conf. int.]\n",
      "--------------------------------------------------------------------------------\n",
      "     Intercept      0.536      0.170      3.157      0.002      0.203      0.869\n",
      "\n"
     ]
    }
   ],
   "source": [
    "# propensity score according to Imbens, G. & Rubin, D. (2015)\n",
    "causal.reset()\n",
    "causal.est_propensity_s()\n",
    "print(causal.propensity)"
   ]
  },
  {
   "cell_type": "markdown",
   "metadata": {},
   "source": [
    "> The propensity score is the conditional probability of\n",
    "  receiving the treatment given the observed covariates.\n",
    "  Estimation is done via a logistic regression.\n",
    "  The covariate selection algorithm is based on a sequence\n",
    "  of likelihood ratio tests.\n",
    "\n",
    "Propensity score is foundamental to undestand relations between variables. This always implies comparative studies with different approaches to the causal graph. Experimenting on causal relations involves establishing hypothesis and compare them in a series of tests. For example, attributing probability distributions to causal mechanism (the arrows in a directed graph) can be an empirical process like trying different distributions (Bernoulli, Uniform, etc.) that fit better the data according to educated guesses and run an extensive comparison of the results.\n",
    "\n",
    "This leads to the definition of different Structural Causal Models (SCMs) for which causal inference provides a variety of developing tools from hypothesis to counterfactuals."
   ]
  },
  {
   "cell_type": "code",
   "execution_count": 78,
   "metadata": {},
   "outputs": [
    {
     "name": "stdout",
     "output_type": "stream",
     "text": [
      "\n",
      "Estimated Parameters of Propensity Score\n",
      "\n",
      "                    Coef.       S.e.          z      P>|z|      [95% Conf. int.]\n",
      "--------------------------------------------------------------------------------\n",
      "     Intercept      0.319      1.649      0.194      0.847     -2.913      3.551\n",
      "            X0      0.024      0.037      0.666      0.506     -0.047      0.096\n",
      "            X1     -1.676      2.189     -0.766      0.444     -5.966      2.614\n",
      "\n"
     ]
    }
   ],
   "source": [
    "# linear or quadratic propensity score\n",
    "causal.reset()\n",
    "causal.est_propensity()\n",
    "print(causal.propensity)"
   ]
  },
  {
   "cell_type": "markdown",
   "metadata": {},
   "source": [
    "Disclaimer: the original dataset used is only examplary and it is already normalised to linear relations so this kind of analysis is not very relevant; in the presence of a less worked dataset though, with values representing direct observations, this can be very relevant in asserting causal relations. \n",
    "\n",
    "We can try to test if a quadratic relation is in place by trying:"
   ]
  },
  {
   "cell_type": "code",
   "execution_count": 83,
   "metadata": {},
   "outputs": [
    {
     "name": "stdout",
     "output_type": "stream",
     "text": [
      "\n",
      "Estimated Parameters of Propensity Score\n",
      "\n",
      "                    Coef.       S.e.          z      P>|z|      [95% Conf. int.]\n",
      "--------------------------------------------------------------------------------\n",
      "     Intercept      6.995     14.793      0.473      0.636    -21.998     35.989\n",
      "            X0     -0.188      0.464     -0.405      0.686     -1.098      0.722\n",
      "            X1     -1.158     20.471     -0.057      0.955    -41.282     38.966\n",
      "         X0*X0     -0.000      0.005     -0.014      0.989     -0.010      0.010\n",
      "         X1*X1    -12.038     18.037     -0.667      0.505    -47.391     23.315\n",
      "         X0*X1      0.283      0.526      0.539      0.590     -0.747      1.314\n",
      "\n"
     ]
    }
   ],
   "source": [
    "# try to have an idea if quadratic relations are relevant\n",
    "causal.reset()\n",
    "causal.est_propensity(qua=[(0,0), (1,1), (0,1)])\n",
    "print(causal.propensity)"
   ]
  },
  {
   "cell_type": "code",
   "execution_count": 92,
   "metadata": {},
   "outputs": [
    {
     "name": "stdout",
     "output_type": "stream",
     "text": [
      "\n",
      "Treatment Effect Estimates: Matching\n",
      "\n",
      "                     Est.       S.e.          z      P>|z|      [95% Conf. int.]\n",
      "--------------------------------------------------------------------------------\n",
      "           ATE      0.009      0.100      0.087      0.931     -0.186      0.204\n",
      "           ATC      0.004      0.101      0.037      0.970     -0.194      0.201\n",
      "           ATT      0.012      0.101      0.114      0.909     -0.187      0.210\n",
      "\n"
     ]
    }
   ],
   "source": [
    "# we use the Imbens, G. & Rubin, D. (2015) propensity for now\n",
    "causal.reset()\n",
    "causal.est_propensity_s()\n",
    "causal.est_via_matching(matches=4, bias_adj=True)\n",
    "print(causal.estimates)"
   ]
  },
  {
   "cell_type": "markdown",
   "metadata": {},
   "source": [
    "In the `Est.` column, we can see here the estimated influence on the effect for an intervention on the causes.\n",
    "\n",
    "You can try to change the `matches` parameter that defines how many records should be involved in the matching. I assumed that 4 is a good parameter considering the size of the dataset."
   ]
  },
  {
   "cell_type": "markdown",
   "metadata": {},
   "source": [
    "### 1. improving life expectancy\n",
    "\n",
    "Let's move now into using these tools in presence of interventions, we are going to do the same operations done in a previous post:"
   ]
  },
  {
   "cell_type": "code",
   "execution_count": 80,
   "metadata": {},
   "outputs": [
    {
     "ename": "KeyError",
     "evalue": "'X3'",
     "output_type": "error",
     "traceback": [
      "\u001b[0;31m---------------------------------------------------------------------------\u001b[0m",
      "\u001b[0;31mKeyError\u001b[0m                                  Traceback (most recent call last)",
      "File \u001b[0;32m~/code/notepad/.venv/lib/python3.8/site-packages/pandas/core/indexes/base.py:3621\u001b[0m, in \u001b[0;36mIndex.get_loc\u001b[0;34m(self, key, method, tolerance)\u001b[0m\n\u001b[1;32m   3620\u001b[0m \u001b[39mtry\u001b[39;00m:\n\u001b[0;32m-> 3621\u001b[0m     \u001b[39mreturn\u001b[39;00m \u001b[39mself\u001b[39;49m\u001b[39m.\u001b[39;49m_engine\u001b[39m.\u001b[39;49mget_loc(casted_key)\n\u001b[1;32m   3622\u001b[0m \u001b[39mexcept\u001b[39;00m \u001b[39mKeyError\u001b[39;00m \u001b[39mas\u001b[39;00m err:\n",
      "File \u001b[0;32m~/code/notepad/.venv/lib/python3.8/site-packages/pandas/_libs/index.pyx:136\u001b[0m, in \u001b[0;36mpandas._libs.index.IndexEngine.get_loc\u001b[0;34m()\u001b[0m\n",
      "File \u001b[0;32m~/code/notepad/.venv/lib/python3.8/site-packages/pandas/_libs/index.pyx:163\u001b[0m, in \u001b[0;36mpandas._libs.index.IndexEngine.get_loc\u001b[0;34m()\u001b[0m\n",
      "File \u001b[0;32mpandas/_libs/hashtable_class_helper.pxi:5198\u001b[0m, in \u001b[0;36mpandas._libs.hashtable.PyObjectHashTable.get_item\u001b[0;34m()\u001b[0m\n",
      "File \u001b[0;32mpandas/_libs/hashtable_class_helper.pxi:5206\u001b[0m, in \u001b[0;36mpandas._libs.hashtable.PyObjectHashTable.get_item\u001b[0;34m()\u001b[0m\n",
      "\u001b[0;31mKeyError\u001b[0m: 'X3'",
      "\nThe above exception was the direct cause of the following exception:\n",
      "\u001b[0;31mKeyError\u001b[0m                                  Traceback (most recent call last)",
      "\u001b[1;32m/home/lorenzo/code/notepad/worldhappiness/worldhappiness-learning-estimation.ipynb Cell 19'\u001b[0m in \u001b[0;36m<cell line: 1>\u001b[0;34m()\u001b[0m\n\u001b[0;32m----> <a href='vscode-notebook-cell:/home/lorenzo/code/notepad/worldhappiness/worldhappiness-learning-estimation.ipynb#ch0000028?line=0'>1</a>\u001b[0m std_dev_X3 \u001b[39m=\u001b[39m df_start[\u001b[39m\"\u001b[39;49m\u001b[39mX3\u001b[39;49m\u001b[39m\"\u001b[39;49m]\u001b[39m.\u001b[39mstd()\n\u001b[1;32m      <a href='vscode-notebook-cell:/home/lorenzo/code/notepad/worldhappiness/worldhappiness-learning-estimation.ipynb#ch0000028?line=1'>2</a>\u001b[0m \u001b[39mprint\u001b[39m(std_dev_X3 \u001b[39m/\u001b[39m \u001b[39m10\u001b[39m)\n\u001b[1;32m      <a href='vscode-notebook-cell:/home/lorenzo/code/notepad/worldhappiness/worldhappiness-learning-estimation.ipynb#ch0000028?line=3'>4</a>\u001b[0m mask \u001b[39m=\u001b[39m df_start[\u001b[39m\"\u001b[39m\u001b[39mD\u001b[39m\u001b[39m\"\u001b[39m] \u001b[39m==\u001b[39m \u001b[39m1\u001b[39m\n",
      "File \u001b[0;32m~/code/notepad/.venv/lib/python3.8/site-packages/pandas/core/frame.py:3505\u001b[0m, in \u001b[0;36mDataFrame.__getitem__\u001b[0;34m(self, key)\u001b[0m\n\u001b[1;32m   3503\u001b[0m \u001b[39mif\u001b[39;00m \u001b[39mself\u001b[39m\u001b[39m.\u001b[39mcolumns\u001b[39m.\u001b[39mnlevels \u001b[39m>\u001b[39m \u001b[39m1\u001b[39m:\n\u001b[1;32m   3504\u001b[0m     \u001b[39mreturn\u001b[39;00m \u001b[39mself\u001b[39m\u001b[39m.\u001b[39m_getitem_multilevel(key)\n\u001b[0;32m-> 3505\u001b[0m indexer \u001b[39m=\u001b[39m \u001b[39mself\u001b[39;49m\u001b[39m.\u001b[39;49mcolumns\u001b[39m.\u001b[39;49mget_loc(key)\n\u001b[1;32m   3506\u001b[0m \u001b[39mif\u001b[39;00m is_integer(indexer):\n\u001b[1;32m   3507\u001b[0m     indexer \u001b[39m=\u001b[39m [indexer]\n",
      "File \u001b[0;32m~/code/notepad/.venv/lib/python3.8/site-packages/pandas/core/indexes/base.py:3623\u001b[0m, in \u001b[0;36mIndex.get_loc\u001b[0;34m(self, key, method, tolerance)\u001b[0m\n\u001b[1;32m   3621\u001b[0m     \u001b[39mreturn\u001b[39;00m \u001b[39mself\u001b[39m\u001b[39m.\u001b[39m_engine\u001b[39m.\u001b[39mget_loc(casted_key)\n\u001b[1;32m   3622\u001b[0m \u001b[39mexcept\u001b[39;00m \u001b[39mKeyError\u001b[39;00m \u001b[39mas\u001b[39;00m err:\n\u001b[0;32m-> 3623\u001b[0m     \u001b[39mraise\u001b[39;00m \u001b[39mKeyError\u001b[39;00m(key) \u001b[39mfrom\u001b[39;00m \u001b[39merr\u001b[39;00m\n\u001b[1;32m   3624\u001b[0m \u001b[39mexcept\u001b[39;00m \u001b[39mTypeError\u001b[39;00m:\n\u001b[1;32m   3625\u001b[0m     \u001b[39m# If we have a listlike key, _check_indexing_error will raise\u001b[39;00m\n\u001b[1;32m   3626\u001b[0m     \u001b[39m#  InvalidIndexError. Otherwise we fall through and re-raise\u001b[39;00m\n\u001b[1;32m   3627\u001b[0m     \u001b[39m#  the TypeError.\u001b[39;00m\n\u001b[1;32m   3628\u001b[0m     \u001b[39mself\u001b[39m\u001b[39m.\u001b[39m_check_indexing_error(key)\n",
      "\u001b[0;31mKeyError\u001b[0m: 'X3'"
     ]
    }
   ],
   "source": [
    "std_dev_X3 = df_start[\"X3\"].std()\n",
    "print(std_dev_X3 / 10)\n",
    "\n",
    "mask = df_start[\"D\"] == 1\n",
    "\n",
    "df_intervention1 = df_start.copy()\n",
    "# apply intervention\n",
    "df_intervention1.loc[mask, 'X3'] = df_intervention1.loc[mask, \"X3\"].apply(lambda x: x + (std_dev_X3 / 10))\n",
    "df_intervention1.head()\n",
    "\n",
    "# we simplify the model considering only some covariates\n",
    "causal_interv1 = CausalModel(\n",
    "    Y=df_intervention1[\"Y\"].to_numpy(),\n",
    "    D=df_intervention1[\"D\"].to_numpy(),\n",
    "    X=df_intervention1[[\"X0\", \"X1\", \"X2\", \"X3\"]].to_numpy()\n",
    ")\n",
    "\n"
   ]
  },
  {
   "cell_type": "markdown",
   "metadata": {},
   "source": [
    "### 2. improving social support"
   ]
  },
  {
   "cell_type": "code",
   "execution_count": null,
   "metadata": {},
   "outputs": [],
   "source": [
    "\n"
   ]
  },
  {
   "cell_type": "markdown",
   "metadata": {},
   "source": [
    "### 3. Compare interventions"
   ]
  },
  {
   "cell_type": "code",
   "execution_count": null,
   "metadata": {},
   "outputs": [],
   "source": []
  }
 ],
 "metadata": {
  "interpreter": {
   "hash": "a16d66621039bb8cee7875480a6bc62385a8d80ab6fd674ebc7420034665608f"
  },
  "kernelspec": {
   "display_name": "Python 3.8.10 ('.venv': venv)",
   "language": "python",
   "name": "python3"
  },
  "language_info": {
   "codemirror_mode": {
    "name": "ipython",
    "version": 3
   },
   "file_extension": ".py",
   "mimetype": "text/x-python",
   "name": "python",
   "nbconvert_exporter": "python",
   "pygments_lexer": "ipython3",
   "version": "3.8.10"
  },
  "orig_nbformat": 4
 },
 "nbformat": 4,
 "nbformat_minor": 2
}
