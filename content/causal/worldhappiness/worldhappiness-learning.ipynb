{
 "cells": [
  {
   "cell_type": "markdown",
   "metadata": {},
   "source": [
    "# A causal look into the factors of world happiness [3-Causal learning]\n",
    "\n",
    "## intro\n",
    "In this one we will try causal graph learning on our dataset. There are different algorithms to discover causal graphs from data. We are going to use `causal-learn` library.\n",
    "\n",
    "Let's start with the usual dataset loading steps. Here the mapping of the variables:\n",
    "```\n",
    "Y: Ladder score\n",
    "D: \"treatment\" status indicator, we will try to do some interventions\n",
    "   on some subset of the records (for example, what happens if income raises...)\n",
    "   this binary label will be set to 1 for the records that received the intervention.\n",
    "X: a matrix of all the covariates used in the dataset (Y  S  J  X  W)\n",
    "```\n",
    "\n",
    "Discalimer: figures below may differ if recomputed as those are results of probabilistic models\n",
    "\n",
    "## load the dataset"
   ]
  },
  {
   "cell_type": "code",
   "execution_count": 1,
   "metadata": {},
   "outputs": [],
   "source": [
    "import pandas as pd\n",
    "from causalinference import CausalModel\n",
    "from tabulate import tabulate\n",
    "from functools import partial\n",
    "def flatten(xss):\n",
    "    return [x for xs in xss for x in xs]"
   ]
  },
  {
   "cell_type": "code",
   "execution_count": 2,
   "metadata": {},
   "outputs": [
    {
     "data": {
      "text/html": [
       "<div>\n",
       "<style scoped>\n",
       "    .dataframe tbody tr th:only-of-type {\n",
       "        vertical-align: middle;\n",
       "    }\n",
       "\n",
       "    .dataframe tbody tr th {\n",
       "        vertical-align: top;\n",
       "    }\n",
       "\n",
       "    .dataframe thead th {\n",
       "        text-align: right;\n",
       "    }\n",
       "</style>\n",
       "<table border=\"1\" class=\"dataframe\">\n",
       "  <thead>\n",
       "    <tr style=\"text-align: right;\">\n",
       "      <th></th>\n",
       "      <th>Country name</th>\n",
       "      <th>Regional indicator</th>\n",
       "      <th>Ladder score</th>\n",
       "      <th>Standard error of ladder score</th>\n",
       "      <th>upperwhisker</th>\n",
       "      <th>lowerwhisker</th>\n",
       "      <th>Logged GDP per capita</th>\n",
       "      <th>Social support</th>\n",
       "      <th>Healthy life expectancy</th>\n",
       "      <th>Freedom to make life choices</th>\n",
       "      <th>Generosity</th>\n",
       "      <th>Perceptions of corruption</th>\n",
       "      <th>Ladder score in Dystopia</th>\n",
       "      <th>Dystopia + residual</th>\n",
       "    </tr>\n",
       "  </thead>\n",
       "  <tbody>\n",
       "    <tr>\n",
       "      <th>0</th>\n",
       "      <td>Finland</td>\n",
       "      <td>Western Europe</td>\n",
       "      <td>7.842</td>\n",
       "      <td>0.032</td>\n",
       "      <td>7.904</td>\n",
       "      <td>7.780</td>\n",
       "      <td>10.775</td>\n",
       "      <td>0.954</td>\n",
       "      <td>72.0</td>\n",
       "      <td>0.949</td>\n",
       "      <td>-0.098</td>\n",
       "      <td>0.186</td>\n",
       "      <td>2.43</td>\n",
       "      <td>3.253</td>\n",
       "    </tr>\n",
       "    <tr>\n",
       "      <th>1</th>\n",
       "      <td>Denmark</td>\n",
       "      <td>Western Europe</td>\n",
       "      <td>7.620</td>\n",
       "      <td>0.035</td>\n",
       "      <td>7.687</td>\n",
       "      <td>7.552</td>\n",
       "      <td>10.933</td>\n",
       "      <td>0.954</td>\n",
       "      <td>72.7</td>\n",
       "      <td>0.946</td>\n",
       "      <td>0.030</td>\n",
       "      <td>0.179</td>\n",
       "      <td>2.43</td>\n",
       "      <td>2.868</td>\n",
       "    </tr>\n",
       "    <tr>\n",
       "      <th>2</th>\n",
       "      <td>Switzerland</td>\n",
       "      <td>Western Europe</td>\n",
       "      <td>7.571</td>\n",
       "      <td>0.036</td>\n",
       "      <td>7.643</td>\n",
       "      <td>7.500</td>\n",
       "      <td>11.117</td>\n",
       "      <td>0.942</td>\n",
       "      <td>74.4</td>\n",
       "      <td>0.919</td>\n",
       "      <td>0.025</td>\n",
       "      <td>0.292</td>\n",
       "      <td>2.43</td>\n",
       "      <td>2.839</td>\n",
       "    </tr>\n",
       "    <tr>\n",
       "      <th>3</th>\n",
       "      <td>Iceland</td>\n",
       "      <td>Western Europe</td>\n",
       "      <td>7.554</td>\n",
       "      <td>0.059</td>\n",
       "      <td>7.670</td>\n",
       "      <td>7.438</td>\n",
       "      <td>10.878</td>\n",
       "      <td>0.983</td>\n",
       "      <td>73.0</td>\n",
       "      <td>0.955</td>\n",
       "      <td>0.160</td>\n",
       "      <td>0.673</td>\n",
       "      <td>2.43</td>\n",
       "      <td>2.967</td>\n",
       "    </tr>\n",
       "    <tr>\n",
       "      <th>4</th>\n",
       "      <td>Netherlands</td>\n",
       "      <td>Western Europe</td>\n",
       "      <td>7.464</td>\n",
       "      <td>0.027</td>\n",
       "      <td>7.518</td>\n",
       "      <td>7.410</td>\n",
       "      <td>10.932</td>\n",
       "      <td>0.942</td>\n",
       "      <td>72.4</td>\n",
       "      <td>0.913</td>\n",
       "      <td>0.175</td>\n",
       "      <td>0.338</td>\n",
       "      <td>2.43</td>\n",
       "      <td>2.798</td>\n",
       "    </tr>\n",
       "  </tbody>\n",
       "</table>\n",
       "</div>"
      ],
      "text/plain": [
       "  Country name Regional indicator  Ladder score  \\\n",
       "0      Finland     Western Europe         7.842   \n",
       "1      Denmark     Western Europe         7.620   \n",
       "2  Switzerland     Western Europe         7.571   \n",
       "3      Iceland     Western Europe         7.554   \n",
       "4  Netherlands     Western Europe         7.464   \n",
       "\n",
       "   Standard error of ladder score  upperwhisker  lowerwhisker  \\\n",
       "0                           0.032         7.904         7.780   \n",
       "1                           0.035         7.687         7.552   \n",
       "2                           0.036         7.643         7.500   \n",
       "3                           0.059         7.670         7.438   \n",
       "4                           0.027         7.518         7.410   \n",
       "\n",
       "   Logged GDP per capita  Social support  Healthy life expectancy  \\\n",
       "0                 10.775           0.954                     72.0   \n",
       "1                 10.933           0.954                     72.7   \n",
       "2                 11.117           0.942                     74.4   \n",
       "3                 10.878           0.983                     73.0   \n",
       "4                 10.932           0.942                     72.4   \n",
       "\n",
       "   Freedom to make life choices  Generosity  Perceptions of corruption  \\\n",
       "0                         0.949      -0.098                      0.186   \n",
       "1                         0.946       0.030                      0.179   \n",
       "2                         0.919       0.025                      0.292   \n",
       "3                         0.955       0.160                      0.673   \n",
       "4                         0.913       0.175                      0.338   \n",
       "\n",
       "   Ladder score in Dystopia  Dystopia + residual  \n",
       "0                      2.43                3.253  \n",
       "1                      2.43                2.868  \n",
       "2                      2.43                2.839  \n",
       "3                      2.43                2.967  \n",
       "4                      2.43                2.798  "
      ]
     },
     "execution_count": 2,
     "metadata": {},
     "output_type": "execute_result"
    }
   ],
   "source": [
    "df = pd.read_csv('world-happiness-report-2021.csv')\n",
    "df.drop(list(df.filter(regex='Explained')), axis=1, inplace=True)\n",
    "df.head()"
   ]
  },
  {
   "cell_type": "code",
   "execution_count": 3,
   "metadata": {},
   "outputs": [
    {
     "data": {
      "text/html": [
       "<div>\n",
       "<style scoped>\n",
       "    .dataframe tbody tr th:only-of-type {\n",
       "        vertical-align: middle;\n",
       "    }\n",
       "\n",
       "    .dataframe tbody tr th {\n",
       "        vertical-align: top;\n",
       "    }\n",
       "\n",
       "    .dataframe thead th {\n",
       "        text-align: right;\n",
       "    }\n",
       "</style>\n",
       "<table border=\"1\" class=\"dataframe\">\n",
       "  <thead>\n",
       "    <tr style=\"text-align: right;\">\n",
       "      <th></th>\n",
       "      <th>Y</th>\n",
       "      <th>S</th>\n",
       "      <th>J</th>\n",
       "      <th>X</th>\n",
       "      <th>W</th>\n",
       "    </tr>\n",
       "  </thead>\n",
       "  <tbody>\n",
       "    <tr>\n",
       "      <th>0</th>\n",
       "      <td>7.842</td>\n",
       "      <td>10.775</td>\n",
       "      <td>0.954</td>\n",
       "      <td>72.0</td>\n",
       "      <td>0.949</td>\n",
       "    </tr>\n",
       "    <tr>\n",
       "      <th>1</th>\n",
       "      <td>7.620</td>\n",
       "      <td>10.933</td>\n",
       "      <td>0.954</td>\n",
       "      <td>72.7</td>\n",
       "      <td>0.946</td>\n",
       "    </tr>\n",
       "    <tr>\n",
       "      <th>2</th>\n",
       "      <td>7.571</td>\n",
       "      <td>11.117</td>\n",
       "      <td>0.942</td>\n",
       "      <td>74.4</td>\n",
       "      <td>0.919</td>\n",
       "    </tr>\n",
       "    <tr>\n",
       "      <th>3</th>\n",
       "      <td>7.554</td>\n",
       "      <td>10.878</td>\n",
       "      <td>0.983</td>\n",
       "      <td>73.0</td>\n",
       "      <td>0.955</td>\n",
       "    </tr>\n",
       "    <tr>\n",
       "      <th>4</th>\n",
       "      <td>7.464</td>\n",
       "      <td>10.932</td>\n",
       "      <td>0.942</td>\n",
       "      <td>72.4</td>\n",
       "      <td>0.913</td>\n",
       "    </tr>\n",
       "  </tbody>\n",
       "</table>\n",
       "</div>"
      ],
      "text/plain": [
       "       Y       S      J     X      W\n",
       "0  7.842  10.775  0.954  72.0  0.949\n",
       "1  7.620  10.933  0.954  72.7  0.946\n",
       "2  7.571  11.117  0.942  74.4  0.919\n",
       "3  7.554  10.878  0.983  73.0  0.955\n",
       "4  7.464  10.932  0.942  72.4  0.913"
      ]
     },
     "execution_count": 3,
     "metadata": {},
     "output_type": "execute_result"
    }
   ],
   "source": [
    "df = df[[\"Ladder score\",\n",
    "         \"Logged GDP per capita\",\n",
    "         \"Social support\",\n",
    "         \"Healthy life expectancy\",\n",
    "         \"Freedom to make life choices\"]\n",
    "].copy()\n",
    "df.rename(columns={\n",
    "    \"Ladder score\": \"Y\",\n",
    "    \"Logged GDP per capita\": \"S\",\n",
    "    \"Social support\": \"J\",\n",
    "    \"Healthy life expectancy\": \"X\",\n",
    "    \"Freedom to make life choices\": \"W\" \n",
    "}, inplace=True)\n",
    "df.head(5)"
   ]
  },
  {
   "cell_type": "code",
   "execution_count": 4,
   "metadata": {},
   "outputs": [
    {
     "data": {
      "text/html": [
       "<div>\n",
       "<style scoped>\n",
       "    .dataframe tbody tr th:only-of-type {\n",
       "        vertical-align: middle;\n",
       "    }\n",
       "\n",
       "    .dataframe tbody tr th {\n",
       "        vertical-align: top;\n",
       "    }\n",
       "\n",
       "    .dataframe thead th {\n",
       "        text-align: right;\n",
       "    }\n",
       "</style>\n",
       "<table border=\"1\" class=\"dataframe\">\n",
       "  <thead>\n",
       "    <tr style=\"text-align: right;\">\n",
       "      <th></th>\n",
       "      <th>Y</th>\n",
       "      <th>S</th>\n",
       "      <th>J</th>\n",
       "      <th>X</th>\n",
       "      <th>W</th>\n",
       "    </tr>\n",
       "  </thead>\n",
       "  <tbody>\n",
       "    <tr>\n",
       "      <th>count</th>\n",
       "      <td>149.000000</td>\n",
       "      <td>149.000000</td>\n",
       "      <td>149.000000</td>\n",
       "      <td>149.000000</td>\n",
       "      <td>149.000000</td>\n",
       "    </tr>\n",
       "    <tr>\n",
       "      <th>mean</th>\n",
       "      <td>5.532839</td>\n",
       "      <td>9.432208</td>\n",
       "      <td>0.814745</td>\n",
       "      <td>64.992799</td>\n",
       "      <td>0.791597</td>\n",
       "    </tr>\n",
       "    <tr>\n",
       "      <th>std</th>\n",
       "      <td>1.073924</td>\n",
       "      <td>1.158601</td>\n",
       "      <td>0.114889</td>\n",
       "      <td>6.762043</td>\n",
       "      <td>0.113332</td>\n",
       "    </tr>\n",
       "    <tr>\n",
       "      <th>min</th>\n",
       "      <td>2.523000</td>\n",
       "      <td>6.635000</td>\n",
       "      <td>0.463000</td>\n",
       "      <td>48.478000</td>\n",
       "      <td>0.382000</td>\n",
       "    </tr>\n",
       "    <tr>\n",
       "      <th>25%</th>\n",
       "      <td>4.852000</td>\n",
       "      <td>8.541000</td>\n",
       "      <td>0.750000</td>\n",
       "      <td>59.802000</td>\n",
       "      <td>0.718000</td>\n",
       "    </tr>\n",
       "    <tr>\n",
       "      <th>50%</th>\n",
       "      <td>5.534000</td>\n",
       "      <td>9.569000</td>\n",
       "      <td>0.832000</td>\n",
       "      <td>66.603000</td>\n",
       "      <td>0.804000</td>\n",
       "    </tr>\n",
       "    <tr>\n",
       "      <th>75%</th>\n",
       "      <td>6.255000</td>\n",
       "      <td>10.421000</td>\n",
       "      <td>0.905000</td>\n",
       "      <td>69.600000</td>\n",
       "      <td>0.877000</td>\n",
       "    </tr>\n",
       "    <tr>\n",
       "      <th>max</th>\n",
       "      <td>7.842000</td>\n",
       "      <td>11.647000</td>\n",
       "      <td>0.983000</td>\n",
       "      <td>76.953000</td>\n",
       "      <td>0.970000</td>\n",
       "    </tr>\n",
       "  </tbody>\n",
       "</table>\n",
       "</div>"
      ],
      "text/plain": [
       "                Y           S           J           X           W\n",
       "count  149.000000  149.000000  149.000000  149.000000  149.000000\n",
       "mean     5.532839    9.432208    0.814745   64.992799    0.791597\n",
       "std      1.073924    1.158601    0.114889    6.762043    0.113332\n",
       "min      2.523000    6.635000    0.463000   48.478000    0.382000\n",
       "25%      4.852000    8.541000    0.750000   59.802000    0.718000\n",
       "50%      5.534000    9.569000    0.832000   66.603000    0.804000\n",
       "75%      6.255000   10.421000    0.905000   69.600000    0.877000\n",
       "max      7.842000   11.647000    0.983000   76.953000    0.970000"
      ]
     },
     "execution_count": 4,
     "metadata": {},
     "output_type": "execute_result"
    }
   ],
   "source": [
    "df.describe()"
   ]
  },
  {
   "cell_type": "code",
   "execution_count": 5,
   "metadata": {},
   "outputs": [
    {
     "name": "stdout",
     "output_type": "stream",
     "text": [
      "Index(['Y', 'S', 'J', 'X', 'W'], dtype='object')\n"
     ]
    }
   ],
   "source": [
    "print(df.columns)\n",
    "\n",
    "from IPython.display import Image, display\n",
    "\n",
    "def view_pydot(pdot):\n",
    "    plt = Image(pdot.create_png())\n",
    "    display(plt)"
   ]
  },
  {
   "cell_type": "markdown",
   "metadata": {},
   "source": [
    "## Causal discovery\n",
    "\n",
    "Let's use FCI as provided by `causal-learn` and designed by [1] to spot the causal relations from the dataset."
   ]
  },
  {
   "cell_type": "code",
   "execution_count": 6,
   "metadata": {},
   "outputs": [
    {
     "name": "stderr",
     "output_type": "stream",
     "text": [
      "/home/lorenzo/code/notepad/.venv/lib/python3.8/site-packages/tqdm/auto.py:22: TqdmWarning: IProgress not found. Please update jupyter and ipywidgets. See https://ipywidgets.readthedocs.io/en/stable/user_install.html\n",
      "  from .autonotebook import tqdm as notebook_tqdm\n"
     ]
    },
    {
     "name": "stdout",
     "output_type": "stream",
     "text": [
      "Starting Fast Adjacency Search.\n"
     ]
    },
    {
     "name": "stderr",
     "output_type": "stream",
     "text": [
      "Depth=3, working on node 4: 100%|██████████| 5/5 [00:00<00:00, 155.34it/s]\n"
     ]
    },
    {
     "name": "stdout",
     "output_type": "stream",
     "text": [
      "Finishing Fast Adjacency Search.\n",
      "X1 --> X5\n"
     ]
    },
    {
     "data": {
      "image/png": "[encoded data removed]",
      "text/plain": [
       "<IPython.core.display.Image object>"
      ]
     },
     "metadata": {},
     "output_type": "display_data"
    }
   ],
   "source": [
    "from causallearn.search.ConstraintBased.FCI import fci\n",
    "G = fci(df.to_numpy())\n",
    "\n",
    "# visualization\n",
    "from causallearn.utils.GraphUtils import GraphUtils\n",
    "dot = GraphUtils.to_pydot(G[0], labels=df.columns)\n",
    "\n",
    "view_pydot(dot)"
   ]
  },
  {
   "cell_type": "markdown",
   "metadata": {},
   "source": [
    "Let's run another algorithm for comparison: Peter-Clark (PC) [2]"
   ]
  },
  {
   "cell_type": "code",
   "execution_count": 7,
   "metadata": {},
   "outputs": [
    {
     "name": "stderr",
     "output_type": "stream",
     "text": [
      "Depth=3, working on node 4: 100%|██████████| 5/5 [00:00<00:00, 54.37it/s] \n"
     ]
    },
    {
     "data": {
      "image/png": "[encoded data removed]",
      "text/plain": [
       "<Figure size 432x288 with 1 Axes>"
      ]
     },
     "metadata": {
      "needs_background": "light"
     },
     "output_type": "display_data"
    }
   ],
   "source": [
    "from causallearn.search.ConstraintBased.PC import pc\n",
    "cg = pc(df.to_numpy())\n",
    "\n",
    "# visualization using pydot\n",
    "cg.draw_pydot_graph(labels=df.columns)"
   ]
  },
  {
   "cell_type": "markdown",
   "metadata": {},
   "source": [
    "The graph discovered includes only 4 variables, there seems to be no causal relation that involves `S`.\n"
   ]
  },
  {
   "cell_type": "markdown",
   "metadata": {},
   "source": [
    "## Graphical Causal Model"
   ]
  },
  {
   "cell_type": "markdown",
   "metadata": {},
   "source": [
    "\n",
    "Let's now try to run causal inference on the discovered graph: we start using Graphical Causal Modelling and then the Causal Inference itself. "
   ]
  },
  {
   "cell_type": "code",
   "execution_count": 8,
   "metadata": {},
   "outputs": [
    {
     "name": "stderr",
     "output_type": "stream",
     "text": [
      "Fitting causal mechanism of node W: 100%|██████████| 4/4 [00:00<00:00, 79.45it/s]\n"
     ]
    }
   ],
   "source": [
    "from dowhy import gcm\n",
    "import networkx as nx\n",
    "\n",
    "columns_order = [\"X\", \"J\", \"W\", \"Y\"]\n",
    "\n",
    "scm = gcm.StructuralCausalModel(nx.DiGraph([(\"X\", \"Y\"), (\"J\", \"Y\"), (\"Y\", \"W\")]))\n",
    "\n",
    "scm.set_causal_mechanism(\n",
    "    'X', gcm.EmpiricalDistribution())\n",
    "scm.set_causal_mechanism(\n",
    "    'J', gcm.EmpiricalDistribution())\n",
    "scm.set_causal_mechanism(\n",
    "    'W', gcm.AdditiveNoiseModel(gcm.ml.create_linear_regressor()))\n",
    "scm.set_causal_mechanism(\n",
    "    'Y', gcm.AdditiveNoiseModel(gcm.ml.create_linear_regressor()))\n",
    "\n",
    "gcm.fit(scm, df)"
   ]
  },
  {
   "cell_type": "markdown",
   "metadata": {},
   "source": [
    "Now that we have a fairly better established causal model, we can retry the intervention routines.\n",
    "\n",
    "Let's try these \"atomic\" interventions:\n",
    "1. control `X`\n",
    "2. control `X` using SVM\n",
    "3. control `X` using Random Forest\n",
    "\n",
    "### 1. control X\n",
    "\n",
    "Let's do **intervention 1** by setting `X=min(X)` and `X=median(X)`:"
   ]
  },
  {
   "cell_type": "code",
   "execution_count": 9,
   "metadata": {},
   "outputs": [
    {
     "name": "stdout",
     "output_type": "stream",
     "text": [
      "Atomic Intervention: Set value X=min(X)=48.478\n",
      "action      i       X      J         W        Y\n",
      "--------  ---  ------  -----  --------  -------\n",
      "original   75  64.703  0.903  0.718     5.477\n",
      "X=min(X)   75  48.478  0.893  0.711354  3.91403\n",
      "\n",
      "\n",
      "Atomic Intervention: Set value X=median(X)=66.603\n",
      "action         i       X      J         W        Y\n",
      "-----------  ---  ------  -----  --------  -------\n",
      "original      75  64.703  0.903  0.718     5.477\n",
      "X=median(X)   75  66.603  0.764  0.733672  5.43697\n"
     ]
    }
   ],
   "source": [
    "def do_intervention_atomic(model, covariate, value):\n",
    "    \"Make an intervention by setting a covariate to a given VALUE\"\n",
    "    return gcm.interventional_samples(\n",
    "        model,\n",
    "        {covariate: lambda _: value},\n",
    "        num_samples_to_draw=149\n",
    "    )\n",
    "\n",
    "min_x = df[\"X\"].min()\n",
    "median_x = df[\"X\"].median()\n",
    "\n",
    "# take a random sample of 3 countries\n",
    "sample_df01 = df.sample(\n",
    "    n=3, random_state=10101, ignore_index=False).copy()\n",
    "sample_indices01 = sample_df01.index\n",
    "original01 = df.iloc[sample_indices01[1]]\n",
    "\n",
    "\n",
    "#\n",
    "# intervention 1: min(X)\n",
    "#\n",
    "print(f\"Atomic Intervention: Set value X=min(X)={min_x}\")\n",
    "intervention01_on_x = do_intervention_atomic(\n",
    "    scm,\n",
    "    \"X\",\n",
    "    df[\"X\"].min()\n",
    ").iloc[sample_indices01[1]]\n",
    "\n",
    "table01 = [\n",
    "    [\"original\", sample_indices01[1]] + original01[columns_order].to_list(),\n",
    "    [\"X=min(X)\", sample_indices01[1]] + intervention01_on_x[columns_order].to_list()]\n",
    "\n",
    "print(tabulate(table01, headers=[\"action\", \"i\"] + columns_order))\n",
    "print(\"\\n\")\n",
    "\n",
    "\n",
    "#\n",
    "# intervention 2: median(X)\n",
    "#\n",
    "print(f\"Atomic Intervention: Set value X=median(X)={median_x}\")\n",
    "intervention02_on_x = do_intervention_atomic(\n",
    "    scm,\n",
    "    \"X\",\n",
    "    df[\"X\"].median()\n",
    ").iloc[sample_indices01[1]]\n",
    "\n",
    "table02 = [\n",
    "    [\"original\", sample_indices01[1]] + original01[columns_order].to_list(),\n",
    "    [\"X=median(X)\", sample_indices01[1]] + intervention02_on_x[columns_order].to_list()]\n",
    "\n",
    "print(tabulate(table02, headers=[\"action\", \"i\"] + columns_order))\n",
    "\n",
    "original_value = df.loc[sample_indices01[1]][\"Y\"]\n",
    "interv1_value = intervention01_on_x[columns_order].to_list()[-1]\n",
    "interv2_value = intervention02_on_x[columns_order].to_list()[-1]\n",
    "del scm, intervention01_on_x, intervention02_on_x\n"
   ]
  },
  {
   "cell_type": "markdown",
   "metadata": {},
   "source": [
    "We can now starting to compare true causal effects and climb to the second step of the Ladder of Causation (understanding through intervention). Our causal model has been generated by causal algorithms (that can return slightly different results according to type of algorithm and parameters obviously but can assure a formal consistency). After four posts we can start to say something.\n",
    "\n",
    "The expected \"gain/loss\" in controlling for `X` (Life expectancy) in terms of `Y` (Ladder score, aka \"happiness index relatively to a dystopia\") for country 75 (but we could easily compute the average of all countries) is:\n",
    "\n",
    "* in the case of reducing the expectancy to the minimum:\n",
    "\n",
    "$E_{75} ( Y_{75}^{do(X=min)}(1)-Y_{75}(0) ) $ = 3.91403 - 5.477 = −1.56297\n",
    "\n",
    "* in the case of raising life expectancy to the median:\n",
    "\n",
    "$E_{75} ( Y_{75}^{do(X=median)}(1)-Y_{75}(0) )  $ = 5.43697 - 5.477 = −0.04003\n",
    "\n",
    "These results are consistent to what we could expect: a life expectancy lowered by 20 years pulls down \"happiness\" quite evidently, on the other side increasing the life expectancy by 2 years may have a limited effect (always keep in mind statistical error).\n",
    "\n",
    "We can probaly improve this view by adjusting the mechanism that transmit between `X` and `Y`. in fact we would probably not expect (by human logical reasoning) to see a decrease in \"happines\" if life expectancy goes up by even the slightest increase. Let's try the same model with a different mechanism\n",
    "\n",
    "### 2. control X using SVM\n"
   ]
  },
  {
   "cell_type": "code",
   "execution_count": 10,
   "metadata": {},
   "outputs": [
    {
     "name": "stderr",
     "output_type": "stream",
     "text": [
      "Fitting causal mechanism of node W: 100%|██████████| 4/4 [00:00<00:00, 78.16it/s]\n"
     ]
    }
   ],
   "source": [
    "scm2 = gcm.StructuralCausalModel(nx.DiGraph([(\"X\", \"Y\"), (\"J\", \"Y\"), (\"Y\", \"W\")]))\n",
    "\n",
    "scm2.set_causal_mechanism(\n",
    "    'X', gcm.EmpiricalDistribution())\n",
    "scm2.set_causal_mechanism(\n",
    "    'J', gcm.EmpiricalDistribution())\n",
    "scm2.set_causal_mechanism(\n",
    "    'W', gcm.AdditiveNoiseModel(gcm.ml.create_support_vector_regressor()))  # <--- both changes to SVM\n",
    "scm2.set_causal_mechanism(\n",
    "    'Y', gcm.AdditiveNoiseModel(gcm.ml.create_support_vector_regressor()))\n",
    "\n",
    "gcm.fit(scm2, df)"
   ]
  },
  {
   "cell_type": "markdown",
   "metadata": {},
   "source": [
    "Let's perform the same interventions as before but using a Support Vector Machine model as mechanisms for both ingoing and outgoing relations from `Y`:"
   ]
  },
  {
   "cell_type": "code",
   "execution_count": 11,
   "metadata": {},
   "outputs": [
    {
     "name": "stdout",
     "output_type": "stream",
     "text": [
      "Atomic Intervention: Set value X=min(X)=48.478\n",
      "action      i       X      J         W        Y\n",
      "--------  ---  ------  -----  --------  -------\n",
      "original   75  64.703  0.903  0.718     5.477\n",
      "X=min(X)   75  48.478  0.71   0.687136  4.20372\n",
      "\n",
      "\n",
      "Atomic Intervention: Set value X=median(X)=66.603\n",
      "action         i       X      J         W        Y\n",
      "-----------  ---  ------  -----  --------  -------\n",
      "original      75  64.703  0.903  0.718     5.477\n",
      "X=median(X)   75  66.603  0.893  0.915142  5.71135\n"
     ]
    }
   ],
   "source": [
    "#\n",
    "# intervention 3 (SVM): min(X)\n",
    "#\n",
    "print(f\"Atomic Intervention: Set value X=min(X)={min_x}\")\n",
    "intervention03_on_x = do_intervention_atomic(\n",
    "    scm2,\n",
    "    \"X\",\n",
    "    df[\"X\"].min()\n",
    ").iloc[sample_indices01[1]]\n",
    "\n",
    "table03 = [\n",
    "    [\"original\", sample_indices01[1]] + original01[columns_order].to_list(),\n",
    "    [\"X=min(X)\", sample_indices01[1]] + intervention03_on_x[columns_order].to_list()]\n",
    "\n",
    "print(tabulate(table03, headers=[\"action\", \"i\"] + columns_order))\n",
    "print(\"\\n\")\n",
    "\n",
    "\n",
    "#\n",
    "# intervention 4 (SVM): median(X)\n",
    "#\n",
    "print(f\"Atomic Intervention: Set value X=median(X)={median_x}\")\n",
    "intervention04_on_x = do_intervention_atomic(\n",
    "    scm2,\n",
    "    \"X\",\n",
    "    df[\"X\"].median()\n",
    ").iloc[sample_indices01[1]]\n",
    "\n",
    "table04 = [\n",
    "    [\"original\", sample_indices01[1]] + original01[columns_order].to_list(),\n",
    "    [\"X=median(X)\", sample_indices01[1]] + intervention04_on_x[columns_order].to_list()]\n",
    "\n",
    "print(tabulate(table04, headers=[\"action\", \"i\"] + columns_order))\n",
    "\n",
    "del scm2, intervention03_on_x, intervention04_on_x"
   ]
  },
  {
   "cell_type": "markdown",
   "metadata": {},
   "source": [
    "We can see at first sight that these are better estimation for the me mechanism between `X` and `Y`:\n",
    "\n",
    "The expected \"gain/loss\" in controlling for `X` (Life expectancy) in terms of `Y` (Ladder score, aka \"happiness index relatively to a dystopia\") for country 75 (but we could easily compute the average of all countries) is:\n",
    "\n",
    "* in the case of reducing the expectancy to the minimum (with SVM): $E_{75}^{SVM} ( Y_{75}^{do(X=min)}(1)-Y_{75}(0) ) = 4.20372 - 5.477 = −1.27328 $\n",
    "\n",
    "* in the case of raising life expectancy to the median (with SVM): $E_{75}^{SVM} ( Y_{75}^{do(X=median)}(1)-Y_{75}(0) ) = 5.71135 - 5.477 = 0.23435 $\n",
    "\n",
    "This is more consistent with causal reasoning, reducing by 20 years reduces a lot \"happiness\", increasing by 2 increases slightly \"happiness\". SVM seems to model better the causal relation between life expectancy and \"happiness\". We may have desired a higher decrease for $E_{75}^{SVM}$. What about a Random Forest mechanism?\n",
    "\n",
    "## 3. control X using Random Forest\n",
    "\n",
    "Same as 2. let;s generate a new causal model, but this time we set a Random Forest regressor for relation ingoing `Y` but keeping outgoing relation to be a linear mechanism:"
   ]
  },
  {
   "cell_type": "code",
   "execution_count": 12,
   "metadata": {},
   "outputs": [
    {
     "name": "stderr",
     "output_type": "stream",
     "text": [
      "Fitting causal mechanism of node W: 100%|██████████| 4/4 [00:00<00:00, 11.63it/s]\n"
     ]
    }
   ],
   "source": [
    "scm3 = gcm.StructuralCausalModel(nx.DiGraph([(\"X\", \"Y\"), (\"J\", \"Y\"), (\"Y\", \"W\")]))\n",
    "\n",
    "scm3.set_causal_mechanism(\n",
    "    'X', gcm.EmpiricalDistribution())\n",
    "scm3.set_causal_mechanism(\n",
    "    'J', gcm.EmpiricalDistribution())\n",
    "scm3.set_causal_mechanism(\n",
    "    'W', gcm.AdditiveNoiseModel(gcm.ml.create_linear_regressor())) # <--- still linear\n",
    "scm3.set_causal_mechanism(\n",
    "    'Y', gcm.AdditiveNoiseModel(gcm.ml.create_random_forest_regressor()))\n",
    "\n",
    "gcm.fit(scm3, df)"
   ]
  },
  {
   "cell_type": "code",
   "execution_count": 13,
   "metadata": {},
   "outputs": [
    {
     "name": "stdout",
     "output_type": "stream",
     "text": [
      "Atomic Intervention: Set value X=min(X)=48.478\n",
      "action      i       X      J         W        Y\n",
      "--------  ---  ------  -----  --------  -------\n",
      "original   75  64.703  0.903  0.718     5.477\n",
      "X=min(X)   75  48.478  0.767  0.696522  4.12787\n",
      "\n",
      "\n",
      "Atomic Intervention: Set value X=median(X)=66.603\n",
      "action         i       X      J         W        Y\n",
      "-----------  ---  ------  -----  --------  -------\n",
      "original      75  64.703  0.903  0.718     5.477\n",
      "X=median(X)   75  66.603  0.672  0.911946  5.26091\n"
     ]
    }
   ],
   "source": [
    "#\n",
    "# intervention 5 (RF): min(X)\n",
    "#\n",
    "print(f\"Atomic Intervention: Set value X=min(X)={min_x}\")\n",
    "intervention05_on_x = do_intervention_atomic(\n",
    "    scm3,\n",
    "    \"X\",\n",
    "    df[\"X\"].min()\n",
    ").iloc[sample_indices01[1]]\n",
    "\n",
    "table05 = [\n",
    "    [\"original\", sample_indices01[1]] + original01[columns_order].to_list(),\n",
    "    [\"X=min(X)\", sample_indices01[1]] + intervention05_on_x[columns_order].to_list()]\n",
    "\n",
    "print(tabulate(table05, headers=[\"action\", \"i\"] + columns_order))\n",
    "print(\"\\n\")\n",
    "\n",
    "\n",
    "#\n",
    "# intervention 6 (RF): median(X)\n",
    "#\n",
    "print(f\"Atomic Intervention: Set value X=median(X)={median_x}\")\n",
    "intervention06_on_x = do_intervention_atomic(\n",
    "    scm3,\n",
    "    \"X\",\n",
    "    df[\"X\"].median()\n",
    ").iloc[sample_indices01[1]]\n",
    "\n",
    "table06 = [\n",
    "    [\"original\", sample_indices01[1]] + original01[columns_order].to_list(),\n",
    "    [\"X=median(X)\", sample_indices01[1]] + intervention06_on_x[columns_order].to_list()]\n",
    "\n",
    "print(tabulate(table06, headers=[\"action\", \"i\"] + columns_order))"
   ]
  },
  {
   "cell_type": "markdown",
   "metadata": {},
   "source": [
    "I leave to the reader telling if this does better of worse than 2.:\n",
    "* in the case of reducing the expectancy to the minimum (with RF): $E_{75}^{RF} ( Y_{75}^{do(X=min)}(1)-Y_{75}(0) ) = 4.12787 - 5.477 = −1.34913 $\n",
    "\n",
    "* in the case of raising life expectancy to the median (with RF): $E_{75}^{RF} ( Y_{75}^{do(X=median)}(1)-Y_{75}(0) ) = 4.73129 - 5.477 = −0.74571 $\n",
    "\n",
    "\n",
    "Here it is the post about using `doWhy` for causal inference. We have used both the graphical tools on the graph and numerical tools on a single record. Next time we will compute ATE, ATC and ATT by defining the `D` column and formalising the intervenetions.\n",
    "\n",
    "\n",
    "To get in touch you can contact me [here](https://www.linkedin.com/in/lorenzomoriondo/), or at https://pramantha.net"
   ]
  },
  {
   "cell_type": "markdown",
   "metadata": {},
   "source": [
    "## References\n",
    "\n",
    "[1] Spirtes, P., Meek, C., & Richardson, T. (1995, August). Causal inference in the presence of latent variables and selection bias. In Proceedings of the Eleventh conference on Uncertainty in artificial intelligence (pp. 499-506).\n",
    "\n",
    "[2] Spirtes, P., Glymour, C. N., Scheines, R., & Heckerman, D. (2000). Causation, prediction, and search. MIT press.\n"
   ]
  }
 ],
 "metadata": {
  "interpreter": {
   "hash": "a16d66621039bb8cee7875480a6bc62385a8d80ab6fd674ebc7420034665608f"
  },
  "kernelspec": {
   "display_name": "Python 3.8.10 ('.venv': venv)",
   "language": "python",
   "name": "python3"
  },
  "language_info": {
   "codemirror_mode": {
    "name": "ipython",
    "version": 3
   },
   "file_extension": ".py",
   "mimetype": "text/x-python",
   "name": "python",
   "nbconvert_exporter": "python",
   "pygments_lexer": "ipython3",
   "version": "3.8.10"
  },
  "orig_nbformat": 4
 },
 "nbformat": 4,
 "nbformat_minor": 2
}
